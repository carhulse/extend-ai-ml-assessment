{
 "cells": [
  {
   "cell_type": "code",
   "execution_count": null,
   "metadata": {},
   "outputs": [],
   "source": [
    "# Model\n",
    "\n",
    "# input 1 channel\n",
    "# input/output size 512*512\n",
    "\n",
    "# Sources:\n",
    "# https://github.com/msminhas93/anomaly-detection-using-autoencoders/blob/master/model.py\n",
    "# https://github.com/adityashrm21/image-segmentation-pytorch/blob/master/torch-model/fcn.py\n",
    "# https://github.com/kanezaki/pytorch-unsupervised-segmentation-tip/blob/master/demo.py"
   ]
  },
  {
   "cell_type": "code",
   "execution_count": null,
   "metadata": {},
   "outputs": [],
   "source": [
    "class AnomalyAE(nn.Module):\n",
    "    def __init__(self):\n",
    "        super().__init__()\n",
    "        self.conv1 = nn.Conv2d(1, 48, (11, 11), stride=(1, 1), padding=5)\n",
    "        self.bn1 = nn.BatchNorm2d(48)\n",
    "\n",
    "        self.conv2 = nn.Conv2d(48, 48, (9, 9), stride=(2, 2), padding=4)\n",
    "        self.bn2 = nn.BatchNorm2d(48)\n",
    "\n",
    "        self.conv3 = nn.Conv2d(48, 48, (7, 7), stride=(2, 2), padding=3)\n",
    "        self.bn3 = nn.BatchNorm2d(48)\n",
    "\n",
    "        self.conv4 = nn.Conv2d(48, 48, (5, 5), stride=(2, 2), padding=2)\n",
    "        self.bn4 = nn.BatchNorm2d(48)\n",
    "\n",
    "        self.conv5 = nn.Conv2d(48, 48, (3, 3), stride=(2, 2), padding=1)\n",
    "        self.bn5 = nn.BatchNorm2d(48)\n",
    "\n",
    "        self.conv_tr1 = nn.ConvTranspose2d(\n",
    "            48, 48, (5, 5), stride=(2, 2), padding=2, output_padding=1)\n",
    "        self.bn_tr1 = nn.BatchNorm2d(48)\n",
    "\n",
    "        self.conv_tr2 = nn.ConvTranspose2d(\n",
    "            96, 48, (7, 7), stride=(2, 2), padding=3, output_padding=1)\n",
    "        self.bn_tr2 = nn.BatchNorm2d(48)\n",
    "\n",
    "        self.conv_tr3 = nn.ConvTranspose2d(\n",
    "            96, 48, (9, 9), stride=(2, 2), padding=4, output_padding=1)\n",
    "        self.bn_tr3 = nn.BatchNorm2d(48)\n",
    "\n",
    "        self.conv_tr4 = nn.ConvTranspose2d(\n",
    "            96, 48, (11, 11), stride=(2, 2), padding=5, output_padding=1)\n",
    "        self.bn_tr4 = nn.BatchNorm2d(48)\n",
    "\n",
    "        self.conv_output = nn.Conv2d(96, 1, (1, 1), (1, 1))\n",
    "        self.bn_output = nn.BatchNorm2d(1)\n",
    "\n",
    "    def forward(self, x):\n",
    "        slope = 0.2\n",
    "        x = F.leaky_relu((self.bn1(self.conv1(x))), slope)\n",
    "        x1 = F.leaky_relu((self.bn2(self.conv2(x))), slope)\n",
    "        x2 = F.leaky_relu((self.bn3(self.conv3(x1))), slope)\n",
    "        x3 = F.leaky_relu((self.bn4(self.conv4(x2))), slope)\n",
    "        x4 = F.leaky_relu((self.bn5(self.conv5(x3))), slope)\n",
    "\n",
    "        x5 = F.leaky_relu(self.bn_tr1(self.conv_tr1(x4)), slope)\n",
    "        x6 = F.leaky_relu(self.bn_tr2(\n",
    "            self.conv_tr2(torch.cat([x5, x3], 1))), slope)\n",
    "        x7 = F.leaky_relu(self.bn_tr3(\n",
    "            self.conv_tr3(torch.cat([x6, x2], 1))), slope)\n",
    "        x8 = F.leaky_relu(self.bn_tr4(\n",
    "            self.conv_tr4(torch.cat([x7, x1], 1))), slope)\n",
    "\n",
    "        output = F.leaky_relu(self.bn_output(\n",
    "            self.conv_output(torch.cat([x8, x], 1))), slope)\n",
    "        return output\n",
    "\n",
    "if __name__ == \"__main__\":\n",
    "    x = torch.rand([1,1,512,512])\n",
    "    model = AnomalyAE()\n",
    "    y = model(x)\n",
    "    print(x.shape, x.dtype)\n",
    "    print(y.shape, y.dtype)"
   ]
  },
  {
   "cell_type": "code",
   "execution_count": null,
   "metadata": {},
   "outputs": [],
   "source": [
    "# Sample output\n",
    "\n",
    "#sampleoutput=model(sample)\n",
    "#print(sampleoutput.shape)\n",
    "#print(sampleoutput.squeeze().shape)\n",
    "#sampleshow=sampleoutput.squeeze()\n",
    "#plt.imshow(sampleshow.detach().numpy(), cmap=\"gray\")"
   ]
  }
 ],
 "metadata": {
  "kernelspec": {
   "display_name": "Python 3",
   "language": "python",
   "name": "python3"
  },
  "language_info": {
   "codemirror_mode": {
    "name": "ipython",
    "version": 3
   },
   "file_extension": ".py",
   "mimetype": "text/x-python",
   "name": "python",
   "nbconvert_exporter": "python",
   "pygments_lexer": "ipython3",
   "version": "3.8.5"
  }
 },
 "nbformat": 4,
 "nbformat_minor": 4
}
