{
 "cells": [
  {
   "cell_type": "code",
   "execution_count": null,
   "metadata": {},
   "outputs": [],
   "source": [
    "# Data directory\n",
    "\n",
    "data_dir = \"C:/Users\\carly/OneDrive/Extend AI/extend-ai-ml-assessment-main/extend-ai-ml-assessment-main/data\""
   ]
  },
  {
   "cell_type": "code",
   "execution_count": null,
   "metadata": {},
   "outputs": [],
   "source": [
    "# Define own class LoadFromFolder\n",
    "\n",
    "transform = transforms.Compose([transforms.Resize((512, 512)), transforms.ToTensor()])\n",
    "\n",
    "# Data Augmentation\n",
    "#torchvision_transform = transforms.Compose([\n",
    "#    transforms.Resize((x, y)), \n",
    "#    transforms.RandomCrop(512),\n",
    "#    transforms.RandomHorizontalFlip(),\n",
    "#    saturation, contrast, etc.\n",
    "#    transforms.ToTensor(),\n",
    "#])\n",
    "\n",
    "class LoadFromFolder(Dataset):\n",
    "    def __init__(self, main_dir, transform):\n",
    "         \n",
    "        # Set the loading directory\n",
    "        self.main_dir = main_dir\n",
    "        self.transform = transform\n",
    "         \n",
    "        # List all images in folder and count them\n",
    "        all_imgs = os.listdir(main_dir)\n",
    "        self.total_imgs = natsorted(all_imgs)\n",
    "        \n",
    "    def __len__(self):\n",
    "        # Return the previously computed number of images\n",
    "        return len(self.total_imgs)\n",
    "    \n",
    "    def __getitem__(self, idx):\n",
    "        img_loc = os.path.join(self.main_dir, self.total_imgs[idx])\n",
    "\n",
    "        # Use PIL for image loading\n",
    "        image = Image.open(img_loc).convert(\"L\")\n",
    "        # Apply the transformations\n",
    "        tensor_image = self.transform(image)\n",
    "        return tensor_image"
   ]
  },
  {
   "cell_type": "code",
   "execution_count": null,
   "metadata": {},
   "outputs": [],
   "source": [
    "# Checking dimensions\n",
    "\n",
    "dataset = LoadFromFolder(main_dir=data_dir, transform=transform)\n",
    "loader = DataLoader(dataset)\n",
    "print(next(iter(loader)).shape)  # prints shape of image with single batch"
   ]
  },
  {
   "cell_type": "code",
   "execution_count": null,
   "metadata": {},
   "outputs": [],
   "source": [
    "# View sample output\n",
    "\n",
    "sample = next(iter(loader))\n",
    "len(sample)\n",
    "\n",
    "image = sample\n",
    "type(image)\n",
    "image.shape\n",
    "print(image.squeeze().shape)\n",
    "\n",
    "plt.imshow(image.squeeze(), cmap=\"gray\")"
   ]
  },
  {
   "cell_type": "code",
   "execution_count": null,
   "metadata": {},
   "outputs": [],
   "source": [
    "len(iter(loader)) # 7 - augment data using transforms"
   ]
  },
  {
   "cell_type": "code",
   "execution_count": null,
   "metadata": {},
   "outputs": [],
   "source": [
    "# Training and Test Set\n",
    "\n",
    "fullset = torch.utils.data.DataLoader(\n",
    "    dataset, batch_size=1\n",
    ")\n",
    "# if batch_size 2, len 4\n",
    "\n",
    "training_set, test_set = random_split(fullset.dataset, [4, 3], generator=torch.Generator().manual_seed(42))"
   ]
  },
  {
   "cell_type": "code",
   "execution_count": null,
   "metadata": {},
   "outputs": [],
   "source": [
    "print(len(fullset))\n",
    "print(len(training_set))\n",
    "print(len(test_set))"
   ]
  },
  {
   "cell_type": "code",
   "execution_count": null,
   "metadata": {},
   "outputs": [],
   "source": [
    "trainloader = DataLoader(training_set, batch_size=1)\n",
    "trainsample = next(iter(trainloader))\n",
    "trainsample.shape"
   ]
  }
 ],
 "metadata": {
  "kernelspec": {
   "display_name": "Python 3",
   "language": "python",
   "name": "python3"
  },
  "language_info": {
   "codemirror_mode": {
    "name": "ipython",
    "version": 3
   },
   "file_extension": ".py",
   "mimetype": "text/x-python",
   "name": "python",
   "nbconvert_exporter": "python",
   "pygments_lexer": "ipython3",
   "version": "3.8.5"
  }
 },
 "nbformat": 4,
 "nbformat_minor": 4
}
