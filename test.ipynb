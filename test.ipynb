{
 "cells": [
  {
   "cell_type": "code",
   "execution_count": null,
   "metadata": {},
   "outputs": [],
   "source": [
    "# Still some work to do:\n",
    "# * bug fixes\n",
    "# * data augmentation\n",
    "# * model optimization & futher training\n",
    "# * testing\n",
    "# * properly displaying segmentation/anomoly detection\n",
    "    # see e.g. here: https://github.com/msminhas93/anomaly-detection-using-autoencoders/blob/master/Results.ipynb\n",
    "# * always nice to have a summary of results! :)"
   ]
  }
 ],
 "metadata": {
  "kernelspec": {
   "display_name": "Python 3",
   "language": "python",
   "name": "python3"
  },
  "language_info": {
   "codemirror_mode": {
    "name": "ipython",
    "version": 3
   },
   "file_extension": ".py",
   "mimetype": "text/x-python",
   "name": "python",
   "nbconvert_exporter": "python",
   "pygments_lexer": "ipython3",
   "version": "3.8.5"
  }
 },
 "nbformat": 4,
 "nbformat_minor": 4
}
